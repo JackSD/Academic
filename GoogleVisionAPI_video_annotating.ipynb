{
  "nbformat": 4,
  "nbformat_minor": 0,
  "metadata": {
    "colab": {
      "name": "GoogleVisionAPI_video_annotating.ipynb",
      "provenance": [],
      "authorship_tag": "ABX9TyPn6cjzofqWDXKG0ZDEaNMj",
      "include_colab_link": true
    },
    "kernelspec": {
      "name": "python3",
      "display_name": "Python 3"
    }
  },
  "cells": [
    {
      "cell_type": "markdown",
      "metadata": {
        "id": "view-in-github",
        "colab_type": "text"
      },
      "source": [
        "<a href=\"https://colab.research.google.com/github/JackSD/Data-Science-Work/blob/master/GoogleVisionAPI_video_annotating.ipynb\" target=\"_parent\"><img src=\"https://colab.research.google.com/assets/colab-badge.svg\" alt=\"Open In Colab\"/></a>"
      ]
    },
    {
      "cell_type": "markdown",
      "metadata": {
        "id": "CHOHJK7gXFST",
        "colab_type": "text"
      },
      "source": [
        "# Using Google Vision API to object-annotate a video"
      ]
    },
    {
      "cell_type": "code",
      "metadata": {
        "id": "q5mWopMUXC_x",
        "colab_type": "code",
        "colab": {}
      },
      "source": [
        "import cv2\n",
        "from google.cloud import vision\n",
        "from google.cloud import storage\n",
        "from google.cloud.vision import types\n",
        "import glob\n",
        "import numpy as np\n",
        "import os\n",
        "import io\n",
        "\n",
        "#authenticate with Google Cloud\n",
        "os.environ[\"GOOGLE_APPLICATION_CREDENTIALS\"]=\"C:/Users/jackd/googlecloudacc/My Test Project-d2230389d5ee.json\"\n",
        "print(os.environ['GOOGLE_APPLICATION_CREDENTIALS'])\n",
        "\n",
        "#from video, get frames\n",
        "def generate_images(video_name):\n",
        "  vidcap = cv2.VideoCapture('resources/' + video_name)\n",
        "  success,image = vidcap.read()\n",
        "  count = 0\n",
        "  while success:\n",
        "    cv2.imwrite(\"images/frame\" + '{0:03}'.format(count) + '.jpg', image)     # save frame as JPEG file\n",
        "    success,image = vidcap.read()\n",
        "    print('Read a new frame: ', success)\n",
        "    count += 1\n",
        "\n",
        "#annotate the frames using the API (object detection)\n",
        "def annotate_images(folder):\n",
        "  client = vision.ImageAnnotatorClient()\n",
        "  directory = \"C:/Users/jackd/PycharmProjects/video_processing/images/\"\n",
        "  output_directory = \"C:/Users/jackd/PycharmProjects/video_processing/output_images/\"\n",
        "  files = os.listdir(directory)\n",
        "\n",
        "  for file_name in files:\n",
        "    print(file_name)\n",
        "    with io.open(directory + file_name, 'rb') as image_file:\n",
        "      content = image_file.read()\n",
        "\n",
        "    image = types.Image(content=content)\n",
        "\n",
        "    objects = client.object_localization(\n",
        "      image=image).localized_object_annotations\n",
        "    print('Number of objects found: {}'.format(len(objects)))\n",
        "\n",
        "    #now annotate the image\n",
        "    image = cv2.imread(directory + file_name)\n",
        "    color_blue = (255, 0, 0)\n",
        "\n",
        "    for someobject in objects:\n",
        "      x1 = round(someobject.bounding_poly.normalized_vertices[0].x * image.shape[1])\n",
        "      y1= round(someobject.bounding_poly.normalized_vertices[0].y * image.shape[0])\n",
        "      x2 = round(someobject.bounding_poly.normalized_vertices[2].x * image.shape[1])\n",
        "      y2 = round(someobject.bounding_poly.normalized_vertices[2].y * image.shape[0])\n",
        "      label = someobject.name\n",
        "      cv2.rectangle(image, (x1, y1), (x2, y2), color_blue, 2)\n",
        "      # Write text on the image\n",
        "      cv2.putText(image, label, (x1, y1-10), cv2.FONT_HERSHEY_SIMPLEX, 0.5, color_blue, 2)\n",
        "\n",
        "    #cv2.imshow(\"image\", image)\n",
        "    #cv2.waitKey(0)\n",
        "\n",
        "    cv2.imwrite(output_directory + file_name,image)\n",
        "\n",
        "def rebuild_video():\n",
        "  output_directory = \"C:/Users/jackd/PycharmProjects/video_processing/output_images/\"\n",
        "  img_array = []\n",
        "  for filename in glob.glob(output_directory + '*.jpg'):\n",
        "    print(filename)\n",
        "    img = cv2.imread(filename)\n",
        "    height, width, layers = img.shape\n",
        "    size = (width, height)\n",
        "    img_array.append(img)\n",
        "\n",
        "  out = cv2.VideoWriter('project.avi', cv2.VideoWriter_fourcc(*'DIVX'), 15, size)\n",
        "\n",
        "  for i in range(len(img_array)):\n",
        "    out.write(img_array[i])\n",
        "  out.release()\n",
        "\n",
        "if __name__ == '__main__':\n",
        "    generate_images('protest_vid.mp4')\n",
        "    annotate_images('images')\n",
        "    rebuild_video()"
      ],
      "execution_count": 0,
      "outputs": []
    }
  ]
}