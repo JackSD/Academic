{
  "nbformat": 4,
  "nbformat_minor": 0,
  "metadata": {
    "colab": {
      "name": "semi-unique data.ipynb",
      "provenance": [],
      "authorship_tag": "ABX9TyPgviJFLLVB/JMQjZk+BCC5",
      "include_colab_link": true
    },
    "kernelspec": {
      "name": "python3",
      "display_name": "Python 3"
    }
  },
  "cells": [
    {
      "cell_type": "markdown",
      "metadata": {
        "id": "view-in-github",
        "colab_type": "text"
      },
      "source": [
        "<a href=\"https://colab.research.google.com/github/JackSD/Data-Science-Work/blob/master/semi_unique_data.ipynb\" target=\"_parent\"><img src=\"https://colab.research.google.com/assets/colab-badge.svg\" alt=\"Open In Colab\"/></a>"
      ]
    },
    {
      "cell_type": "markdown",
      "metadata": {
        "id": "0RPcrGuTzyOJ",
        "colab_type": "text"
      },
      "source": [
        "# Detecting Suspicious Activity through personal data re-use\n",
        "\n",
        "The re-use of data points representing an individual is a key predictor in identity fraud, synthetic identity fraud and possible other scenarios where an attacker is testing the controls of the system\n",
        "\n",
        "This study looks at the possible of how to best detect this kind of re-use in the network of personal data, based on the assumption that generally speaking, an individual and their personal data should appear on the system only once.\n",
        "\n",
        "Some fields are perfectly unique (tax identifier) while others could be expected to have re-use elsewhere (egh Date of Birth, Full Name), but it would be reasonable to assume to being (near-) unique when combining (Date-of-Birth + Name)\n"
      ]
    },
    {
      "cell_type": "markdown",
      "metadata": {
        "id": "ar1C4ACZ1QPx",
        "colab_type": "text"
      },
      "source": [
        "## Setting up the test network of data\n",
        "\n",
        "The network below represents a netowrk of data that you could assume to be normal "
      ]
    },
    {
      "cell_type": "code",
      "metadata": {
        "id": "wTqNrgEzzs1B",
        "colab_type": "code",
        "colab": {
          "base_uri": "https://localhost:8080/",
          "height": 319
        },
        "outputId": "94270504-d161-4816-d5fb-cfdef3a0d744"
      },
      "source": [
        "import networkx as nx\n",
        "G = nx.Graph()\n",
        "G.add_node(1)\n",
        "nx.draw(G, with_labels=True, font_weight='bold')\n"
      ],
      "execution_count": 1,
      "outputs": [
        {
          "output_type": "display_data",
          "data": {
            "image/png": "[encoded data removed]",
            "text/plain": [
              "<Figure size 432x288 with 1 Axes>"
            ]
          },
          "metadata": {
            "tags": []
          }
        }
      ]
    }
  ]
}